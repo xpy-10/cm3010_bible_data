{
 "cells": [
  {
   "cell_type": "code",
   "execution_count": 55,
   "id": "7941cb15-1ed2-4d3e-a4d1-81ae811463b0",
   "metadata": {},
   "outputs": [],
   "source": [
    "import pandas as pd\n",
    "df = pd.read_csv('BHSA-with-extended-features-prepared_version.csv', low_memory=False, sep=',')"
   ]
  },
  {
   "cell_type": "code",
   "execution_count": 56,
   "id": "bddf5b15-2adc-4b44-9986-1378d5bbb54d",
   "metadata": {},
   "outputs": [],
   "source": [
    "#  function to determine if unique values in category1 map to just one value in category2\n",
    "#  returns False if it finds at least 1 instance where category1 maps to more than one value in category2\n",
    "def determineUniqueness(category1, category2, dataFrame):\n",
    "    array1 = pd.Series(dataFrame[category1].unique())\n",
    "    array2 = []\n",
    "    for index, value in array1.items():\n",
    "        if len(df[df[category1]==value][category2].unique()) > 1:\n",
    "            return False\n",
    "    else:\n",
    "        return True"
   ]
  },
  {
   "cell_type": "code",
   "execution_count": 58,
   "id": "72efe66f-5199-4d46-aa3d-6311b2b5eb28",
   "metadata": {},
   "outputs": [
    {
     "data": {
      "text/plain": [
       "True"
      ]
     },
     "execution_count": 58,
     "metadata": {},
     "output_type": "execute_result"
    }
   ],
   "source": [
    "determineUniqueness(\"lexemeID\", \"HebrewLexeme\", df)"
   ]
  },
  {
   "cell_type": "code",
   "execution_count": 50,
   "id": "f2aa0e8e-ca81-4e1a-a782-6e7786eac423",
   "metadata": {},
   "outputs": [
    {
     "data": {
      "text/plain": [
       "True"
      ]
     },
     "execution_count": 50,
     "metadata": {},
     "output_type": "execute_result"
    }
   ],
   "source": [
    "determineUniqueness(\"clauseType\", \"clauseKind\", df)"
   ]
  },
  {
   "cell_type": "code",
   "execution_count": 57,
   "id": "e2698ecb-a636-46c8-81b3-584abce4079e",
   "metadata": {},
   "outputs": [
    {
     "data": {
      "text/plain": [
       "True"
      ]
     },
     "execution_count": 57,
     "metadata": {},
     "output_type": "execute_result"
    }
   ],
   "source": [
    "determineUniqueness(\"clauseID\", \"clauseType\", df)"
   ]
  },
  {
   "cell_type": "code",
   "execution_count": null,
   "id": "21723e53-1bfd-43c6-8ed5-08ba623050b0",
   "metadata": {},
   "outputs": [],
   "source": []
  }
 ],
 "metadata": {
  "kernelspec": {
   "display_name": "Python 3",
   "language": "python",
   "name": "python3"
  },
  "language_info": {
   "codemirror_mode": {
    "name": "ipython",
    "version": 3
   },
   "file_extension": ".py",
   "mimetype": "text/x-python",
   "name": "python",
   "nbconvert_exporter": "python",
   "pygments_lexer": "ipython3",
   "version": "3.8.8"
  }
 },
 "nbformat": 4,
 "nbformat_minor": 5
}
