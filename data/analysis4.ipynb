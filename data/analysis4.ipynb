{
 "cells": [
  {
   "cell_type": "code",
   "execution_count": 1,
   "id": "4526104e-3c0e-42bd-b48a-3ed5b5e1d064",
   "metadata": {},
   "outputs": [],
   "source": [
    "import pandas as pd\n",
    "df = pd.read_csv('BHSA-with-extended-features-prepared_version.csv', low_memory=False, sep=',')"
   ]
  },
  {
   "cell_type": "code",
   "execution_count": 2,
   "id": "55b46301-3e3e-4eed-a8f0-db3a2eefa37a",
   "metadata": {},
   "outputs": [],
   "source": [
    "#  function to determine if unique values in category1 map to just one value in category2\n",
    "#  returns False if it finds at least 1 instance where category1 maps to more than one value in category2\n",
    "def determineUniqueness(category1, category2, dataFrame):\n",
    "    array1 = pd.Series(dataFrame[category1].unique())\n",
    "    array2 = []\n",
    "    for index, value in array1.items():\n",
    "        if len(df[df[category1]==value][category2].unique()) > 1:\n",
    "            return False\n",
    "    else:\n",
    "        return True"
   ]
  },
  {
   "cell_type": "code",
   "execution_count": 3,
   "id": "24acb94e-ff21-41f1-8fe6-23a2d43f2b94",
   "metadata": {},
   "outputs": [
    {
     "data": {
      "text/plain": [
       "Index(['BHSwordSort', 'paragraphMarker', 'poetryMarker', 'clauseID',\n",
       "       'clauseKind', 'clauseType', 'language', 'BHSwordPointed',\n",
       "       'BHSwordConsonantal', 'SBLstyleTransliteration', 'poneticTranscription',\n",
       "       'HebrewLexeme', 'lexemeID', 'StrongNumber', 'extendedStrongNumber',\n",
       "       'morphologyCode', 'morphologyDetail', 'ETCBCgloss', 'extendedGloss',\n",
       "       'KJVverseSort', 'KJVbook', 'KJVchapter', 'KJVverse', 'BHSverseSort',\n",
       "       'BHSbook', 'BHSchapter', 'BHSverse', 'BSBsort', 'BSB'],\n",
       "      dtype='object')"
      ]
     },
     "execution_count": 3,
     "metadata": {},
     "output_type": "execute_result"
    }
   ],
   "source": [
    "df.columns"
   ]
  },
  {
   "cell_type": "code",
   "execution_count": 5,
   "id": "53fb62eb-da2d-4965-aeb1-78ce08573dbf",
   "metadata": {},
   "outputs": [
    {
     "data": {
      "text/plain": [
       "False"
      ]
     },
     "execution_count": 5,
     "metadata": {},
     "output_type": "execute_result"
    }
   ],
   "source": [
    "determineUniqueness(\"HebrewLexeme\", \"lexemeID\", df)"
   ]
  },
  {
   "cell_type": "code",
   "execution_count": 6,
   "id": "36f99598-5f79-4d04-ade6-4177a2d62301",
   "metadata": {},
   "outputs": [
    {
     "data": {
      "text/plain": [
       "9236"
      ]
     },
     "execution_count": 6,
     "metadata": {},
     "output_type": "execute_result"
    }
   ],
   "source": [
    "len(df[\"lexemeID\"].unique())"
   ]
  },
  {
   "cell_type": "code",
   "execution_count": 7,
   "id": "f67836fb-94d8-49be-b85d-10953da236c6",
   "metadata": {},
   "outputs": [
    {
     "data": {
      "text/plain": [
       "8402"
      ]
     },
     "execution_count": 7,
     "metadata": {},
     "output_type": "execute_result"
    }
   ],
   "source": [
    "len(df[\"HebrewLexeme\"].unique())"
   ]
  },
  {
   "cell_type": "code",
   "execution_count": 8,
   "id": "b73de479-397d-4912-bcee-f2cbe57fb288",
   "metadata": {},
   "outputs": [
    {
     "data": {
      "text/plain": [
       "False"
      ]
     },
     "execution_count": 8,
     "metadata": {},
     "output_type": "execute_result"
    }
   ],
   "source": [
    "determineUniqueness(\"BHSwordPointed\", \"lexemeID\", df)"
   ]
  },
  {
   "cell_type": "code",
   "execution_count": 9,
   "id": "91937d59-fb9b-4cb7-ae34-15e144d1598f",
   "metadata": {},
   "outputs": [
    {
     "data": {
      "text/plain": [
       "False"
      ]
     },
     "execution_count": 9,
     "metadata": {},
     "output_type": "execute_result"
    }
   ],
   "source": [
    "determineUniqueness(\"poneticTranscription\", \"lexemeID\", df)"
   ]
  },
  {
   "cell_type": "code",
   "execution_count": 10,
   "id": "1834214b-48fc-4170-9e81-0792e228e123",
   "metadata": {},
   "outputs": [
    {
     "data": {
      "text/plain": [
       "False"
      ]
     },
     "execution_count": 10,
     "metadata": {},
     "output_type": "execute_result"
    }
   ],
   "source": [
    "determineUniqueness(\"lexemeID\", \"extendedStrongNumber\", df)"
   ]
  },
  {
   "cell_type": "code",
   "execution_count": 11,
   "id": "d72bb765-7659-43d5-9d88-3bfd5d6b57b8",
   "metadata": {},
   "outputs": [
    {
     "data": {
      "text/plain": [
       "False"
      ]
     },
     "execution_count": 11,
     "metadata": {},
     "output_type": "execute_result"
    }
   ],
   "source": [
    "determineUniqueness(\"extendedStrongNumber\", \"lexemeID\", df)"
   ]
  },
  {
   "cell_type": "code",
   "execution_count": 12,
   "id": "6f360bee-69f5-4d12-9790-d3687dc95801",
   "metadata": {},
   "outputs": [
    {
     "data": {
      "text/plain": [
       "False"
      ]
     },
     "execution_count": 12,
     "metadata": {},
     "output_type": "execute_result"
    }
   ],
   "source": [
    "determineUniqueness(\"BHSwordPointed\", \"extendedStrongNumber\", df)"
   ]
  },
  {
   "cell_type": "code",
   "execution_count": 13,
   "id": "abd315e2-b84d-4633-8bc9-14fd696ca87b",
   "metadata": {},
   "outputs": [
    {
     "data": {
      "text/plain": [
       "False"
      ]
     },
     "execution_count": 13,
     "metadata": {},
     "output_type": "execute_result"
    }
   ],
   "source": [
    "determineUniqueness(\"BHSwordConsonantal\", \"extendedStrongNumber\", df)"
   ]
  },
  {
   "cell_type": "code",
   "execution_count": 17,
   "id": "678da95f-28c7-49e5-858a-20e0b63d9355",
   "metadata": {},
   "outputs": [
    {
     "data": {
      "text/plain": [
       "False"
      ]
     },
     "execution_count": 17,
     "metadata": {},
     "output_type": "execute_result"
    }
   ],
   "source": [
    "determineUniqueness(\"lexemeID\", \"StrongNumber\", df)"
   ]
  },
  {
   "cell_type": "code",
   "execution_count": 19,
   "id": "14ddc643-e257-45c2-af02-8c47b56c5858",
   "metadata": {},
   "outputs": [
    {
     "data": {
      "text/plain": [
       "False"
      ]
     },
     "execution_count": 19,
     "metadata": {},
     "output_type": "execute_result"
    }
   ],
   "source": [
    "determineUniqueness(\"StrongNumber\", \"extendedStrongNumber\", df)"
   ]
  },
  {
   "cell_type": "code",
   "execution_count": 20,
   "id": "06f71d01-588c-4c48-bcc4-a29c7ec098e9",
   "metadata": {},
   "outputs": [
    {
     "data": {
      "text/plain": [
       "False"
      ]
     },
     "execution_count": 20,
     "metadata": {},
     "output_type": "execute_result"
    }
   ],
   "source": [
    "determineUniqueness(\"extendedStrongNumber\", \"StrongNumber\", df)"
   ]
  },
  {
   "cell_type": "code",
   "execution_count": 33,
   "id": "b91bd115-6323-4487-ba2d-16c1cbc1f82a",
   "metadata": {},
   "outputs": [],
   "source": [
    "#  function to determine if unique values in category1 map to just one value in category2\n",
    "#  returns False if it finds at least 1 instance where category1 maps to more than one value in category2\n",
    "def determineUniquenessPrint(category1, category2, dataFrame):\n",
    "    array1 = pd.Series(dataFrame[category1].unique())\n",
    "    array2 = []\n",
    "    for index, value in array1.items():\n",
    "        if len(df[df[category1]==value][category2].unique()) > 1:\n",
    "            return value\n",
    "    else:\n",
    "        return True"
   ]
  },
  {
   "cell_type": "code",
   "execution_count": 34,
   "id": "f471b686-812f-410a-bc25-4e48a051153d",
   "metadata": {},
   "outputs": [
    {
     "data": {
      "text/plain": [
       "'H853'"
      ]
     },
     "execution_count": 34,
     "metadata": {},
     "output_type": "execute_result"
    }
   ],
   "source": [
    "determineUniquenessPrint(\"StrongNumber\", \"extendedStrongNumber\", df)"
   ]
  },
  {
   "cell_type": "code",
   "execution_count": 35,
   "id": "f92fbf56-f8e1-44bc-a281-1441f9573333",
   "metadata": {},
   "outputs": [
    {
     "data": {
      "text/plain": [
       "'H9003'"
      ]
     },
     "execution_count": 35,
     "metadata": {},
     "output_type": "execute_result"
    }
   ],
   "source": [
    "determineUniquenessPrint(\"extendedStrongNumber\", \"StrongNumber\", df)"
   ]
  },
  {
   "cell_type": "code",
   "execution_count": 31,
   "id": "7d9c79e1-9b39-4bfa-a77a-fe509a8517d5",
   "metadata": {},
   "outputs": [
    {
     "data": {
      "text/plain": [
       "array([nan, 'H4480', 'H7227', 'H4513', 'H1121', 'H1516', 'H3444'],\n",
       "      dtype=object)"
      ]
     },
     "execution_count": 31,
     "metadata": {},
     "output_type": "execute_result"
    }
   ],
   "source": [
    "df[df[\"extendedStrongNumber\"]==\"H9003\"][\"StrongNumber\"].unique()"
   ]
  },
  {
   "cell_type": "code",
   "execution_count": 36,
   "id": "b041710b-419b-4857-9323-48cc5b263188",
   "metadata": {},
   "outputs": [
    {
     "data": {
      "text/plain": [
       "array(['H853', 'H7819'], dtype=object)"
      ]
     },
     "execution_count": 36,
     "metadata": {},
     "output_type": "execute_result"
    }
   ],
   "source": [
    "df[df[\"StrongNumber\"]==\"H853\"][\"extendedStrongNumber\"].unique()"
   ]
  },
  {
   "cell_type": "code",
   "execution_count": 10,
   "id": "b6957d99-3592-4cd8-bbb6-d51f834511f9",
   "metadata": {},
   "outputs": [
    {
     "data": {
      "text/plain": [
       "True"
      ]
     },
     "execution_count": 10,
     "metadata": {},
     "output_type": "execute_result"
    }
   ],
   "source": [
    "df['paragraphMarker'].isna().any()"
   ]
  },
  {
   "cell_type": "code",
   "execution_count": null,
   "id": "57bcca65-5f48-44ee-978f-57c4795154b1",
   "metadata": {},
   "outputs": [],
   "source": []
  }
 ],
 "metadata": {
  "kernelspec": {
   "display_name": "Python 3",
   "language": "python",
   "name": "python3"
  },
  "language_info": {
   "codemirror_mode": {
    "name": "ipython",
    "version": 3
   },
   "file_extension": ".py",
   "mimetype": "text/x-python",
   "name": "python",
   "nbconvert_exporter": "python",
   "pygments_lexer": "ipython3",
   "version": "3.8.8"
  }
 },
 "nbformat": 4,
 "nbformat_minor": 5
}
