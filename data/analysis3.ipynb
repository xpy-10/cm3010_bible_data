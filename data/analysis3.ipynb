{
 "cells": [
  {
   "cell_type": "code",
   "execution_count": 1,
   "id": "307c3021-daad-4c88-9ae4-2a576a1453dc",
   "metadata": {},
   "outputs": [],
   "source": [
    "import pandas as pd\n",
    "df = pd.read_csv('BHSA-with-extended-features-prepared_version.csv', low_memory=False, sep=',')"
   ]
  },
  {
   "cell_type": "code",
   "execution_count": 2,
   "id": "9968e2b2-660b-4195-84b0-82ccc1d7b9df",
   "metadata": {},
   "outputs": [],
   "source": [
    "#  function to determine if unique values in category1 map to just one value in category2\n",
    "#  returns False if it finds at least 1 instance where category1 maps to more than one value in category2\n",
    "def determineUniqueness(category1, category2, dataFrame):\n",
    "    array1 = pd.Series(dataFrame[category1].unique())\n",
    "    array2 = []\n",
    "    for index, value in array1.items():\n",
    "        if len(df[df[category1]==value][category2].unique()) > 1:\n",
    "            return False\n",
    "    else:\n",
    "        return True"
   ]
  },
  {
   "cell_type": "code",
   "execution_count": 3,
   "id": "6921833d-3bc9-47a7-a1c9-29cb0186d03f",
   "metadata": {},
   "outputs": [
    {
     "data": {
      "text/plain": [
       "Index(['BHSwordSort', 'paragraphMarker', 'poetryMarker', 'clauseID',\n",
       "       'clauseKind', 'clauseType', 'language', 'BHSwordPointed',\n",
       "       'BHSwordConsonantal', 'SBLstyleTransliteration', 'poneticTranscription',\n",
       "       'HebrewLexeme', 'lexemeID', 'StrongNumber', 'extendedStrongNumber',\n",
       "       'morphologyCode', 'morphologyDetail', 'ETCBCgloss', 'extendedGloss',\n",
       "       'KJVverseSort', 'KJVbook', 'KJVchapter', 'KJVverse', 'BHSverseSort',\n",
       "       'BHSbook', 'BHSchapter', 'BHSverse', 'BSBsort', 'BSB'],\n",
       "      dtype='object')"
      ]
     },
     "execution_count": 3,
     "metadata": {},
     "output_type": "execute_result"
    }
   ],
   "source": [
    "df.columns"
   ]
  },
  {
   "cell_type": "code",
   "execution_count": 5,
   "id": "a15659fa-2be1-4c05-9f25-138884856768",
   "metadata": {},
   "outputs": [
    {
     "data": {
      "text/plain": [
       "True"
      ]
     },
     "execution_count": 5,
     "metadata": {},
     "output_type": "execute_result"
    }
   ],
   "source": [
    "determineUniqueness(\"poneticTranscription\", \"SBLstyleTransliteration\", df)"
   ]
  },
  {
   "cell_type": "code",
   "execution_count": 6,
   "id": "f7ded8e2-c36e-4c71-a68b-2790f4360ed1",
   "metadata": {},
   "outputs": [
    {
     "data": {
      "text/plain": [
       "False"
      ]
     },
     "execution_count": 6,
     "metadata": {},
     "output_type": "execute_result"
    }
   ],
   "source": [
    "determineUniqueness(\"SBLstyleTransliteration\", \"poneticTranscription\", df)"
   ]
  },
  {
   "cell_type": "code",
   "execution_count": 7,
   "id": "853ed376-ccbd-4ddb-aecd-3b496812dc90",
   "metadata": {},
   "outputs": [
    {
     "data": {
      "text/plain": [
       "False"
      ]
     },
     "execution_count": 7,
     "metadata": {},
     "output_type": "execute_result"
    }
   ],
   "source": [
    "determineUniqueness(\"poneticTranscription\", \"BHSwordPointed\", df)"
   ]
  },
  {
   "cell_type": "code",
   "execution_count": 8,
   "id": "e2c02229-ea17-40e2-a632-9caf6dfe3086",
   "metadata": {},
   "outputs": [
    {
     "data": {
      "text/plain": [
       "False"
      ]
     },
     "execution_count": 8,
     "metadata": {},
     "output_type": "execute_result"
    }
   ],
   "source": [
    "determineUniqueness(\"poneticTranscription\", \"BHSwordConsonantal\", df)"
   ]
  },
  {
   "cell_type": "code",
   "execution_count": 9,
   "id": "376eb8a8-cc33-4527-854f-6be80c1615bb",
   "metadata": {},
   "outputs": [
    {
     "data": {
      "text/plain": [
       "False"
      ]
     },
     "execution_count": 9,
     "metadata": {},
     "output_type": "execute_result"
    }
   ],
   "source": [
    "determineUniqueness(\"SBLstyleTransliteration\", \"BHSwordPointed\", df)"
   ]
  },
  {
   "cell_type": "code",
   "execution_count": 11,
   "id": "0bc945cb-a659-4975-ba21-107acde639c7",
   "metadata": {},
   "outputs": [
    {
     "data": {
      "text/plain": [
       "False"
      ]
     },
     "execution_count": 11,
     "metadata": {},
     "output_type": "execute_result"
    }
   ],
   "source": [
    "determineUniqueness(\"SBLstyleTransliteration\", \"BHSwordConsonantal\", df)"
   ]
  },
  {
   "cell_type": "code",
   "execution_count": null,
   "id": "0004f97d-f2b2-4ade-ae4c-f4807efdc3ca",
   "metadata": {},
   "outputs": [],
   "source": []
  }
 ],
 "metadata": {
  "kernelspec": {
   "display_name": "Python 3",
   "language": "python",
   "name": "python3"
  },
  "language_info": {
   "codemirror_mode": {
    "name": "ipython",
    "version": 3
   },
   "file_extension": ".py",
   "mimetype": "text/x-python",
   "name": "python",
   "nbconvert_exporter": "python",
   "pygments_lexer": "ipython3",
   "version": "3.8.8"
  }
 },
 "nbformat": 4,
 "nbformat_minor": 5
}
