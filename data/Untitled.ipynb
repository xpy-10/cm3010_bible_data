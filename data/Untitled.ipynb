{
 "cells": [
  {
   "cell_type": "code",
   "execution_count": 1,
   "id": "263f1f23-2af6-4a0b-900f-4e7a78707de6",
   "metadata": {},
   "outputs": [],
   "source": [
    "import pandas as pd\n",
    "df = pd.read_csv('BHSA-with-extended-features-prepared_version.csv', low_memory=False, sep=',')"
   ]
  },
  {
   "cell_type": "code",
   "execution_count": 2,
   "id": "39d585a6-2c6d-4273-ab6c-6c1a9a71572d",
   "metadata": {},
   "outputs": [
    {
     "data": {
      "text/plain": [
       "427845"
      ]
     },
     "execution_count": 2,
     "metadata": {},
     "output_type": "execute_result"
    }
   ],
   "source": [
    "len(df['BHSwordSort'])"
   ]
  },
  {
   "cell_type": "code",
   "execution_count": 3,
   "id": "f7881d57-495e-45a5-b2fd-57cafd6f61b5",
   "metadata": {},
   "outputs": [
    {
     "data": {
      "text/plain": [
       "426581"
      ]
     },
     "execution_count": 3,
     "metadata": {},
     "output_type": "execute_result"
    }
   ],
   "source": [
    "len(df['BHSwordSort'].unique())"
   ]
  },
  {
   "cell_type": "code",
   "execution_count": 5,
   "id": "f9486892-6f35-4da2-8b58-bf6306961537",
   "metadata": {},
   "outputs": [
    {
     "data": {
      "text/plain": [
       "300405"
      ]
     },
     "execution_count": 5,
     "metadata": {},
     "output_type": "execute_result"
    }
   ],
   "source": [
    "len(df['BSBsort'].unique())"
   ]
  },
  {
   "cell_type": "code",
   "execution_count": 6,
   "id": "b2883b80-6a93-405c-9b45-e0890a3fda1b",
   "metadata": {},
   "outputs": [
    {
     "data": {
      "text/plain": [
       "Index(['BHSwordSort', 'paragraphMarker', 'poetryMarker', 'clauseID',\n",
       "       'clauseKind', 'clauseType', 'language', 'BHSwordPointed',\n",
       "       'BHSwordConsonantal', 'SBLstyleTransliteration', 'poneticTranscription',\n",
       "       'HebrewLexeme', 'lexemeID', 'StrongNumber', 'extendedStrongNumber',\n",
       "       'morphologyCode', 'morphologyDetail', 'ETCBCgloss', 'extendedGloss',\n",
       "       'KJVverseSort', 'KJVbook', 'KJVchapter', 'KJVverse', 'BHSverseSort',\n",
       "       'BHSbook', 'BHSchapter', 'BHSverse', 'BSBsort', 'BSB'],\n",
       "      dtype='object')"
      ]
     },
     "execution_count": 6,
     "metadata": {},
     "output_type": "execute_result"
    }
   ],
   "source": [
    "df.columns\n"
   ]
  },
  {
   "cell_type": "code",
   "execution_count": 7,
   "id": "d5e0879e-ef8a-44bb-8e4d-f004a4416a9b",
   "metadata": {},
   "outputs": [
    {
     "data": {
      "text/plain": [
       "array(['preposition', 'noun, feminine, singular, absolute',\n",
       "       'verb, qal, perfect, third person, masculine, singular', ...,\n",
       "       'verb, qal, wayyiqtol, third person, masculine, plural, pronominal suffix, second person, masculine, singular',\n",
       "       'noun, pu“al, participle (passive), unknown, masculine, plural, construct',\n",
       "       'verb, qal, participle, unknown, feminine, singular, absolute, pronominal suffix, third person, masculine, singular'],\n",
       "      dtype=object)"
      ]
     },
     "execution_count": 7,
     "metadata": {},
     "output_type": "execute_result"
    }
   ],
   "source": [
    "df['clauseType'].unique()"
   ]
  },
  {
   "cell_type": "code",
   "execution_count": null,
   "id": "b20f9a8f-fbb4-4bc9-aa10-be11fc6a0a0c",
   "metadata": {},
   "outputs": [],
   "source": []
  }
 ],
 "metadata": {
  "kernelspec": {
   "display_name": "Python 3",
   "language": "python",
   "name": "python3"
  },
  "language_info": {
   "codemirror_mode": {
    "name": "ipython",
    "version": 3
   },
   "file_extension": ".py",
   "mimetype": "text/x-python",
   "name": "python",
   "nbconvert_exporter": "python",
   "pygments_lexer": "ipython3",
   "version": "3.8.8"
  }
 },
 "nbformat": 4,
 "nbformat_minor": 5
}
