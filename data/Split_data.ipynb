{
 "cells": [
  {
   "cell_type": "code",
   "execution_count": 1,
   "id": "a3f59d45-5023-4bbd-bde7-11788d5091fe",
   "metadata": {},
   "outputs": [],
   "source": [
    "import pandas as pd\n",
    "df = pd.read_csv('BHSA-with-extended-features-prepared_version.csv', low_memory=False, sep=',')"
   ]
  },
  {
   "cell_type": "code",
   "execution_count": 10,
   "id": "f9ebe1e5-7100-43ee-9596-6c4cadde82d5",
   "metadata": {},
   "outputs": [],
   "source": [
    "def splitFile():\n",
    "    chunk_size = 5000  # lines\n",
    "\n",
    "    def write_chunk(part, lines):\n",
    "        with open('data_part_'+ str(part) +'.csv', 'w') as f_out:\n",
    "            f_out.write(header)\n",
    "            f_out.writelines(lines)\n",
    "\n",
    "    with open('BHSA-with-extended-features-prepared_version.csv', 'r') as f:\n",
    "        count = 0\n",
    "        header = f.readline()\n",
    "        lines = []\n",
    "        for line in f:\n",
    "            count += 1\n",
    "            lines.append(line)\n",
    "            if count % chunk_size == 0:\n",
    "                write_chunk(count // chunk_size, lines)\n",
    "                lines = []\n",
    "        # write remainder\n",
    "        if len(lines) > 0:\n",
    "            write_chunk((count // chunk_size) + 1, lines)\n",
    "\n",
    "# if __name__ == '__main__':\n",
    "#     main()\n"
   ]
  },
  {
   "cell_type": "code",
   "execution_count": 11,
   "id": "591eb0a9-536b-469a-a860-a0dd22080e94",
   "metadata": {},
   "outputs": [],
   "source": [
    "splitFile()"
   ]
  },
  {
   "cell_type": "code",
   "execution_count": null,
   "id": "866f13c5-3c6a-44dd-848e-8f755f8f7cac",
   "metadata": {},
   "outputs": [],
   "source": []
  }
 ],
 "metadata": {
  "kernelspec": {
   "display_name": "Python 3",
   "language": "python",
   "name": "python3"
  },
  "language_info": {
   "codemirror_mode": {
    "name": "ipython",
    "version": 3
   },
   "file_extension": ".py",
   "mimetype": "text/x-python",
   "name": "python",
   "nbconvert_exporter": "python",
   "pygments_lexer": "ipython3",
   "version": "3.8.8"
  }
 },
 "nbformat": 4,
 "nbformat_minor": 5
}
