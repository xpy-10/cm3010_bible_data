{
 "cells": [
  {
   "cell_type": "code",
   "execution_count": 1,
   "id": "487f4223-4045-4b1a-9d8f-542bc8975037",
   "metadata": {},
   "outputs": [],
   "source": [
    "import pandas as pd\n",
    "df = pd.read_csv('BHSA-with-extended-features-prepared_version.csv', low_memory=False, sep=',')"
   ]
  },
  {
   "cell_type": "code",
   "execution_count": 2,
   "id": "e1d969d6-5947-4ca6-8985-e3bd3dbbf8bc",
   "metadata": {},
   "outputs": [],
   "source": [
    "#  function to determine if unique values in category1 map to just one value in category2\n",
    "#  returns False if it finds at least 1 instance where category1 maps to more than one value in category2\n",
    "def determineUniqueness(category1, category2, dataFrame):\n",
    "    array1 = pd.Series(dataFrame[category1].unique())\n",
    "    array2 = []\n",
    "    for index, value in array1.items():\n",
    "        if len(df[df[category1]==value][category2].unique()) > 1:\n",
    "            return False\n",
    "    else:\n",
    "        return True"
   ]
  },
  {
   "cell_type": "code",
   "execution_count": 3,
   "id": "f31f8f99-1316-41da-a081-c286c25311ed",
   "metadata": {},
   "outputs": [
    {
     "data": {
      "text/plain": [
       "Index(['BHSwordSort', 'paragraphMarker', 'poetryMarker', 'clauseID',\n",
       "       'clauseKind', 'clauseType', 'language', 'BHSwordPointed',\n",
       "       'BHSwordConsonantal', 'SBLstyleTransliteration', 'poneticTranscription',\n",
       "       'HebrewLexeme', 'lexemeID', 'StrongNumber', 'extendedStrongNumber',\n",
       "       'morphologyCode', 'morphologyDetail', 'ETCBCgloss', 'extendedGloss',\n",
       "       'KJVverseSort', 'KJVbook', 'KJVchapter', 'KJVverse', 'BHSverseSort',\n",
       "       'BHSbook', 'BHSchapter', 'BHSverse', 'BSBsort', 'BSB'],\n",
       "      dtype='object')"
      ]
     },
     "execution_count": 3,
     "metadata": {},
     "output_type": "execute_result"
    }
   ],
   "source": [
    "df.columns"
   ]
  },
  {
   "cell_type": "code",
   "execution_count": 4,
   "id": "6da3302d-bcbb-4fb1-984e-4e6c76d7b83e",
   "metadata": {},
   "outputs": [
    {
     "data": {
      "text/plain": [
       "False"
      ]
     },
     "execution_count": 4,
     "metadata": {},
     "output_type": "execute_result"
    }
   ],
   "source": [
    "determineUniqueness(\"BHSwordConsonantal\", \"SBLstyleTransliteration\", df)"
   ]
  },
  {
   "cell_type": "code",
   "execution_count": 5,
   "id": "b17531f3-693d-4157-ba82-4eeb16de9921",
   "metadata": {},
   "outputs": [
    {
     "data": {
      "text/plain": [
       "False"
      ]
     },
     "execution_count": 5,
     "metadata": {},
     "output_type": "execute_result"
    }
   ],
   "source": [
    "determineUniqueness(\"BHSwordConsonantal\", \"BHSwordPointed\", df)"
   ]
  },
  {
   "cell_type": "code",
   "execution_count": 6,
   "id": "f402c4be-4e75-4fe0-9b2a-7e0881c8c424",
   "metadata": {},
   "outputs": [
    {
     "data": {
      "text/plain": [
       "False"
      ]
     },
     "execution_count": 6,
     "metadata": {},
     "output_type": "execute_result"
    }
   ],
   "source": [
    "determineUniqueness(\"BHSwordConsonantal\", \"poneticTranscription\", df)"
   ]
  },
  {
   "cell_type": "code",
   "execution_count": 7,
   "id": "e00b83c9-ef95-42eb-aa57-da3be643f55a",
   "metadata": {},
   "outputs": [
    {
     "data": {
      "text/plain": [
       "True"
      ]
     },
     "execution_count": 7,
     "metadata": {},
     "output_type": "execute_result"
    }
   ],
   "source": [
    "determineUniqueness(\"BHSwordPointed\", \"BHSwordConsonantal\", df)"
   ]
  },
  {
   "cell_type": "code",
   "execution_count": 8,
   "id": "8f42e8e7-8f12-4bd8-ba35-5015e74f1d3c",
   "metadata": {},
   "outputs": [
    {
     "data": {
      "text/plain": [
       "False"
      ]
     },
     "execution_count": 8,
     "metadata": {},
     "output_type": "execute_result"
    }
   ],
   "source": [
    "determineUniqueness(\"BHSwordPointed\", \"SBLstyleTransliteration\", df)"
   ]
  },
  {
   "cell_type": "code",
   "execution_count": 9,
   "id": "8825a135-3e9a-45e7-a3d9-f8d612f98819",
   "metadata": {},
   "outputs": [
    {
     "data": {
      "text/plain": [
       "False"
      ]
     },
     "execution_count": 9,
     "metadata": {},
     "output_type": "execute_result"
    }
   ],
   "source": [
    "determineUniqueness(\"BHSwordPointed\", \"poneticTranscription\", df)"
   ]
  },
  {
   "cell_type": "code",
   "execution_count": null,
   "id": "239320d0-20b2-4141-bc3d-0638debad106",
   "metadata": {},
   "outputs": [],
   "source": []
  }
 ],
 "metadata": {
  "kernelspec": {
   "display_name": "Python 3",
   "language": "python",
   "name": "python3"
  },
  "language_info": {
   "codemirror_mode": {
    "name": "ipython",
    "version": 3
   },
   "file_extension": ".py",
   "mimetype": "text/x-python",
   "name": "python",
   "nbconvert_exporter": "python",
   "pygments_lexer": "ipython3",
   "version": "3.8.8"
  }
 },
 "nbformat": 4,
 "nbformat_minor": 5
}
